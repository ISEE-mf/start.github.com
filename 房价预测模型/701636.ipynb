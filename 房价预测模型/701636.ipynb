{
 "cells": [
  {
   "cell_type": "code",
   "execution_count": 37,
   "metadata": {
    "collapsed": false
   },
   "outputs": [],
   "source": [
    "# 查看当前挂载的数据集目录, 该目录下的变更重启环境后会自动还原\n",
    "# View dataset directory. This directory will be recovered automatically after resetting environment. \n",
    "!ls /home/aistudio/data"
   ]
  },
  {
   "cell_type": "code",
   "execution_count": 38,
   "metadata": {
    "collapsed": false
   },
   "outputs": [
    {
     "name": "stdout",
     "output_type": "stream",
     "text": [
      "housing.data\r\n"
     ]
    }
   ],
   "source": [
    "# 查看工作区文件, 该目录下的变更将会持久保存. 请及时清理不必要的文件, 避免加载过慢.\n",
    "# View personal work directory. All changes under this directory will be kept even after reset. Please clean unnecessary files in time to speed up environment loading.\n",
    "!ls /home/aistudio/work"
   ]
  },
  {
   "cell_type": "code",
   "execution_count": 39,
   "metadata": {
    "collapsed": false
   },
   "outputs": [
    {
     "name": "stdout",
     "output_type": "stream",
     "text": [
      "mkdir: cannot create directory ‘/home/aistudio/external-libraries’: File exists\n",
      "Looking in indexes: https://mirror.baidu.com/pypi/simple/\n",
      "Collecting beautifulsoup4\n",
      "\u001b[?25l  Downloading https://mirror.baidu.com/pypi/packages/66/25/ff030e2437265616a1e9b25ccc864e0371a0bc3adb7c5a404fd661c6f4f6/beautifulsoup4-4.9.1-py3-none-any.whl (115kB)\n",
      "\u001b[K     |████████████████████████████████| 122kB 15.4MB/s eta 0:00:01\n",
      "\u001b[?25hCollecting soupsieve>1.2 (from beautifulsoup4)\n",
      "  Downloading https://mirror.baidu.com/pypi/packages/6f/8f/457f4a5390eeae1cc3aeab89deb7724c965be841ffca6cfca9197482e470/soupsieve-2.0.1-py3-none-any.whl\n",
      "Installing collected packages: soupsieve, beautifulsoup4\n",
      "Successfully installed beautifulsoup4-4.9.1 soupsieve-2.0.1\n",
      "\u001b[33mWARNING: Target directory /home/aistudio/external-libraries/bs4 already exists. Specify --upgrade to force replacement.\u001b[0m\n",
      "\u001b[33mWARNING: Target directory /home/aistudio/external-libraries/beautifulsoup4-4.9.1.dist-info already exists. Specify --upgrade to force replacement.\u001b[0m\n",
      "\u001b[33mWARNING: Target directory /home/aistudio/external-libraries/soupsieve already exists. Specify --upgrade to force replacement.\u001b[0m\n",
      "\u001b[33mWARNING: Target directory /home/aistudio/external-libraries/soupsieve-2.0.1.dist-info already exists. Specify --upgrade to force replacement.\u001b[0m\n"
     ]
    }
   ],
   "source": [
    "# 如果需要进行持久化安装, 需要使用持久化路径, 如下方代码示例:\n",
    "# If a persistence installation is required, you need to use the persistence path as the following:\n",
    "!mkdir /home/aistudio/external-libraries\n",
    "!pip install beautifulsoup4 -t /home/aistudio/external-libraries"
   ]
  },
  {
   "cell_type": "code",
   "execution_count": 40,
   "metadata": {
    "collapsed": false
   },
   "outputs": [],
   "source": [
    "# 同时添加如下代码, 这样每次环境(kernel)启动的时候只要运行下方代码即可:\r\n",
    "# Also add the following code, so that every time the environment (kernel) starts, just run the following code:\r\n",
    "import sys\r\n",
    "sys.path.append('/home/aistudio/external-libraries')"
   ]
  },
  {
   "cell_type": "markdown",
   "metadata": {
    "collapsed": true
   },
   "source": [
    "请点击[此处](https://ai.baidu.com/docs#/AIStudio_Project_Notebook/a38e5576)查看本环境基本用法.  <br>\n",
    "Please click [here ](https://ai.baidu.com/docs#/AIStudio_Project_Notebook/a38e5576) for more detailed instructions. "
   ]
  },
  {
   "cell_type": "markdown",
   "metadata": {
    "collapsed": false
   },
   "source": [
    "深度学习不仅实现了模型的端到端学习，还推动了人工智能进入工业大生产阶段，产生了标准化、自动化和模块化的通用框架。\n",
    "不同场景的深度学习模型具备一定的通用性，五个步骤即可完成模型的构建和训练。\n",
    "![](https://ai-studio-static-online.cdn.bcebos.com/416002c6fdb64a76b13cce2557873fca52da9195d1544292a54cb7f84d62d223)\n"
   ]
  },
  {
   "cell_type": "code",
   "execution_count": 41,
   "metadata": {
    "collapsed": false
   },
   "outputs": [],
   "source": [
    "#加载飞桨、Numpy和相关类库\r\n",
    "#fluid包含了大部分飞桨的实用函数\r\n",
    "import paddle.fluid as fluid\r\n",
    "#dygraph动态图的类库\r\n",
    "#动态图模式（解析式执行方式）性能更好更方便调试并便于部署静态图模式（先编译后执行）\r\n",
    "import paddle.fluid.dygraph as dygraph\r\n",
    "#linear神经网络的全连接层\r\n",
    "import paddle.fluid.dygraph as linear\r\n",
    "#用于数据处理,数值计算\r\n",
    "import numpy as np\r\n",
    "import os\r\n",
    "import random"
   ]
  },
  {
   "cell_type": "code",
   "execution_count": 42,
   "metadata": {
    "collapsed": false
   },
   "outputs": [],
   "source": [
    "#************************ 数据处理 ***********************************\r\n",
    "#封装到函数load_data中\r\n",
    "def load_data():\r\n",
    "    \r\n",
    "    import json\r\n",
    "    #———————————————————— 读入训练数据 —————————————————————————————\r\n",
    "    datafile =  './work/housing.data'\r\n",
    "    data = np.fromfile(datafile, sep = ' ')\r\n",
    "    \r\n",
    "    #———————————————————— 数据形状变换 ————————————————————————————\r\n",
    "    #读入之后数据为1维的array\r\n",
    "    #由于原始数据为14×1的列向量，故需将其变换为二维形式\r\n",
    "    #前13列为特征，最后一列为房价中位数\r\n",
    "    feature_names = [ 'CRIM', 'ZN', 'INDUS', 'CHAS', 'NOX', 'RM', 'AGE','DIS',\\\r\n",
    "                      'RAD', 'TAX', 'PTRATIO', 'B', 'LSTAT', 'MEDV']\r\n",
    "    feature_num = len(feature_names)\r\n",
    "    #这里对原始数据做reshape，变成N×14的形式    \r\n",
    "    #reshape(x,y)讲数组拆分成x个长度为y的数组\r\n",
    "    #shape输出数组的大小（m×n）\r\n",
    "    # data = data[:-3]\r\n",
    "    data = data.reshape([data.shape[0] // feature_num, feature_num])\r\n",
    "    # data = data.reshape([-1, feature_num])\r\n",
    "\r\n",
    "    #———————————————————— 数据集划分 ———————————————————————————————\r\n",
    "    #将80%的数据用作训练集，20%用作测试集\r\n",
    "    ratio = 0.8\r\n",
    "    #取数据量的80%，强制取整\r\n",
    "    offset = int(data.shape[0] * ratio)\r\n",
    "    #测试集和训练集必须是没有交集的\r\n",
    "    training_data = data[:offset]\r\n",
    "   \r\n",
    "    #———————————————————— 数据归一化处理 ———————————————————————————\r\n",
    "    '''\r\n",
    "    使每个特征的取值缩放到0~1之间\r\n",
    "    目的：使模型训练更高效；\r\n",
    "    特征前的权重大小可以代表该变量对预测结果的贡献度\r\n",
    "    （因为每个特征值本身的范围相同）\r\n",
    "    '''\r\n",
    "    #计算训练数据集的最值和均值\r\n",
    "    #axis=0是按列处理（对每一列的所有元素进行相应运算）；axis=1是按行处理\r\n",
    "    maximums, minimums, avgs=\\\r\n",
    "                        training_data.max(axis = 0),\\\r\n",
    "                        training_data.min(axis = 0),\\\r\n",
    "                        training_data.sum(axis = 0) / training_data.shape[0]\r\n",
    "\r\n",
    "    # 记录数据的归一化参数，在预测时对数据做归一化\r\n",
    "    global max_values\r\n",
    "    global min_values\r\n",
    "    global avg_values\r\n",
    "    max_values = maximums\r\n",
    "    min_values = minimums\r\n",
    "    avg_values = avgs\r\n",
    "\r\n",
    "    #对数据进行归一化处理\r\n",
    "    for i in range(feature_num):\r\n",
    "        data[:, i] = (data[:, i] - avgs[i]) / (maximums[i] - minimums[i])\r\n",
    "    \r\n",
    "    #训练集和测试集为最终返回值\r\n",
    "    #[:offset]表示前offset列\r\n",
    "    training_data = data[:offset]\r\n",
    "    test_data = data[offset:]\r\n",
    "    return training_data, test_data"
   ]
  },
  {
   "cell_type": "code",
   "execution_count": 43,
   "metadata": {
    "collapsed": false
   },
   "outputs": [
    {
     "name": "stdout",
     "output_type": "stream",
     "text": [
      "[-0.02146321  0.03767327 -0.28552309 -0.08663366  0.01289726  0.04634817\n",
      "  0.00795597 -0.00765794 -0.25172191 -0.11881188 -0.29002528  0.0519112\n",
      " -0.17590923]\n",
      "[-0.00390539]\n"
     ]
    }
   ],
   "source": [
    "#输出测试\r\n",
    "#获取数据\r\n",
    "training_data, test_data = load_data()\r\n",
    "#x = training_data[:, ]\r\n",
    "x = training_data[:, :-1]#左闭右开\r\n",
    "y = training_data[:, -1:]\r\n",
    "#查看数据\r\n",
    "print(x[0])\r\n",
    "print(y[0])"
   ]
  },
  {
   "cell_type": "code",
   "execution_count": 66,
   "metadata": {
    "collapsed": false
   },
   "outputs": [],
   "source": [
    "#************************ 模型设计 ***********************************\r\n",
    "#网络设计，相当于模型的假设空间，以实现前向计算\r\n",
    "#以“类和对象”的方式描述计算预测的输出\r\n",
    "#类成员变量有参数w和b\r\n",
    "class Network(object):\r\n",
    "    def __init__ (self, num_of_weights):\r\n",
    "        #设置固定的随机数种子（为了保持每次运行结果的一致性）\r\n",
    "        np.random.seed(0)\r\n",
    "        #随机生成w\r\n",
    "        self.w = np.random.randn(num_of_weights, 1)\r\n",
    "        self.b = 0.\r\n",
    "    def forward(self, x):\r\n",
    "        z = np.dot(x, self.w)+self.b\r\n",
    "        return z \r\n",
    "    #************************ 训练配置 ***********************************\r\n",
    "    '''\r\n",
    "    通过训练配置优化模型（一般通过损失函数来衡量）\r\n",
    "    回归问题中均方误差是一种常见的损失函数形式\r\n",
    "    分类问题中常用交叉熵函数\r\n",
    "    '''\r\n",
    "    #在Network类下面添加损失函数的计算\r\n",
    "    #使用定义的Network类可以一次性计算多个样本的预测值和损失函数\r\n",
    "    def loss(self, z, y):\r\n",
    "        error = z - y\r\n",
    "        cost = error * error\r\n",
    "        cost = np.mean(cost)\r\n",
    "        return cost\r\n",
    "    \r\n",
    "    #************************ 训练过程 ***********************************\r\n",
    "    #计算w和b的梯度的过程，写成Network类的gradient函数\r\n",
    "    def gradient(self, x, y):\r\n",
    "        z = self.forward(x)\r\n",
    "        gradient_w = (z - y) * x\r\n",
    "        #特征归一化->为了使统一的步长更加合适\r\n",
    "        gradient_w = np.mean(gradient_w, axis = 0)\r\n",
    "        # axis = 0 表示把每一行做相加然后再除以总的行数\r\n",
    "        #使gradient_w的维度保持在（13，1）\r\n",
    "        gradient_w = gradient_w[:, np.newaxis]\r\n",
    "        gradient_b = z - y\r\n",
    "        gradient_b = np.mean(gradient_b)\r\n",
    "        return gradient_w, gradient_b\r\n",
    "    #———————————————————————— 更新梯度 ——————————————————————————————————————\r\n",
    "    def update(self, gradient_w, gradient_b, eta = 0.1):\r\n",
    "        self.w = self.w - eta * gradient_w\r\n",
    "        self.b = self.b - eta * gradient_b\r\n",
    "    \r\n",
    "    #————————————————————————— 封装训练函数 ——————————————————————————————————\r\n",
    "    def train(self, training_data, num_epoches, batch_size = 10, eta = 0.01):\r\n",
    "        n = len(training_data)\r\n",
    "        losses = []\r\n",
    "        for epoch_id in range(num_epoches):\r\n",
    "            # 在每轮迭代开始之前，将训练数据的顺序随机打乱\r\n",
    "            # 然后再按每次取batch_size条数据的方式取出\r\n",
    "            np.random.shuffle(training_data)\r\n",
    "            # 将训练数据进行拆分，每个mini_batch包含batch_size条的数据\r\n",
    "            mini_batches = [training_data[k: k+batch_size] for k in range(0, n, batch_size)]\r\n",
    "            for iter_id, mini_batch in enumerate(mini_batches):\r\n",
    "                #print(self.w.shape)\r\n",
    "                #print(self.b)\r\n",
    "                x = mini_batch[:, :-1]\r\n",
    "                y = mini_batch[:, -1:]\r\n",
    "                z = self.forward(x)\r\n",
    "                loss = self.loss(z, y)\r\n",
    "                gradient_w, gradient_b = self.gradient(x, y)\r\n",
    "                self.update(gradient_w, gradient_b)\r\n",
    "                losses.append(loss)\r\n",
    "                print('Epoch {:3d} / iter {:3d}, loss = {:.4f}'.\r\n",
    "                                 format(epoch_id, iter_id, loss))\r\n",
    "        return losses"
   ]
  },
  {
   "cell_type": "code",
   "execution_count": 67,
   "metadata": {
    "collapsed": false
   },
   "outputs": [
    {
     "name": "stdout",
     "output_type": "stream",
     "text": [
      "Epoch   0 / iter   0, loss = 2.4674\n",
      "Epoch   0 / iter   1, loss = 1.5416\n",
      "Epoch   0 / iter   2, loss = 1.5697\n",
      "Epoch   0 / iter   3, loss = 1.8539\n",
      "Epoch   0 / iter   4, loss = 0.5032\n",
      "Epoch   1 / iter   0, loss = 1.9194\n",
      "Epoch   1 / iter   1, loss = 1.3654\n",
      "Epoch   1 / iter   2, loss = 1.2479\n",
      "Epoch   1 / iter   3, loss = 1.4121\n",
      "Epoch   1 / iter   4, loss = 0.6061\n",
      "Epoch   2 / iter   0, loss = 1.0684\n",
      "Epoch   2 / iter   1, loss = 1.2170\n",
      "Epoch   2 / iter   2, loss = 1.2545\n",
      "Epoch   2 / iter   3, loss = 1.2759\n",
      "Epoch   2 / iter   4, loss = 0.7592\n",
      "Epoch   3 / iter   0, loss = 0.7891\n",
      "Epoch   3 / iter   1, loss = 1.1736\n",
      "Epoch   3 / iter   2, loss = 0.8496\n",
      "Epoch   3 / iter   3, loss = 1.0019\n",
      "Epoch   3 / iter   4, loss = 0.7075\n",
      "Epoch   4 / iter   0, loss = 1.0827\n",
      "Epoch   4 / iter   1, loss = 0.7817\n",
      "Epoch   4 / iter   2, loss = 0.6542\n",
      "Epoch   4 / iter   3, loss = 0.6183\n",
      "Epoch   4 / iter   4, loss = 0.4101\n",
      "Epoch   5 / iter   0, loss = 0.9934\n",
      "Epoch   5 / iter   1, loss = 0.5680\n",
      "Epoch   5 / iter   2, loss = 0.4863\n",
      "Epoch   5 / iter   3, loss = 0.5256\n",
      "Epoch   5 / iter   4, loss = 0.8180\n",
      "Epoch   6 / iter   0, loss = 0.4733\n",
      "Epoch   6 / iter   1, loss = 0.4916\n",
      "Epoch   6 / iter   2, loss = 0.5882\n",
      "Epoch   6 / iter   3, loss = 0.6005\n",
      "Epoch   6 / iter   4, loss = 0.2072\n",
      "Epoch   7 / iter   0, loss = 0.5021\n",
      "Epoch   7 / iter   1, loss = 0.3972\n",
      "Epoch   7 / iter   2, loss = 0.6330\n",
      "Epoch   7 / iter   3, loss = 0.3530\n",
      "Epoch   7 / iter   4, loss = 0.3148\n",
      "Epoch   8 / iter   0, loss = 0.5016\n",
      "Epoch   8 / iter   1, loss = 0.3796\n",
      "Epoch   8 / iter   2, loss = 0.5377\n",
      "Epoch   8 / iter   3, loss = 0.2419\n",
      "Epoch   8 / iter   4, loss = 0.0848\n",
      "Epoch   9 / iter   0, loss = 0.4064\n",
      "Epoch   9 / iter   1, loss = 0.3890\n",
      "Epoch   9 / iter   2, loss = 0.2872\n",
      "Epoch   9 / iter   3, loss = 0.4013\n",
      "Epoch   9 / iter   4, loss = 0.4127\n",
      "Epoch  10 / iter   0, loss = 0.4219\n",
      "Epoch  10 / iter   1, loss = 0.2371\n",
      "Epoch  10 / iter   2, loss = 0.4418\n",
      "Epoch  10 / iter   3, loss = 0.1740\n",
      "Epoch  10 / iter   4, loss = 2.5134\n",
      "Epoch  11 / iter   0, loss = 0.3446\n",
      "Epoch  11 / iter   1, loss = 0.2999\n",
      "Epoch  11 / iter   2, loss = 0.2221\n",
      "Epoch  11 / iter   3, loss = 0.2196\n",
      "Epoch  11 / iter   4, loss = 1.3149\n",
      "Epoch  12 / iter   0, loss = 0.2361\n",
      "Epoch  12 / iter   1, loss = 0.1870\n",
      "Epoch  12 / iter   2, loss = 0.2288\n",
      "Epoch  12 / iter   3, loss = 0.3728\n",
      "Epoch  12 / iter   4, loss = 0.0528\n",
      "Epoch  13 / iter   0, loss = 0.3215\n",
      "Epoch  13 / iter   1, loss = 0.1881\n",
      "Epoch  13 / iter   2, loss = 0.2876\n",
      "Epoch  13 / iter   3, loss = 0.1469\n",
      "Epoch  13 / iter   4, loss = 0.1311\n",
      "Epoch  14 / iter   0, loss = 0.2132\n",
      "Epoch  14 / iter   1, loss = 0.2316\n",
      "Epoch  14 / iter   2, loss = 0.2283\n",
      "Epoch  14 / iter   3, loss = 0.2194\n",
      "Epoch  14 / iter   4, loss = 0.0639\n",
      "Epoch  15 / iter   0, loss = 0.1627\n",
      "Epoch  15 / iter   1, loss = 0.2817\n",
      "Epoch  15 / iter   2, loss = 0.2212\n",
      "Epoch  15 / iter   3, loss = 0.1956\n",
      "Epoch  15 / iter   4, loss = 0.0488\n",
      "Epoch  16 / iter   0, loss = 0.1926\n",
      "Epoch  16 / iter   1, loss = 0.1357\n",
      "Epoch  16 / iter   2, loss = 0.2745\n",
      "Epoch  16 / iter   3, loss = 0.2261\n",
      "Epoch  16 / iter   4, loss = 0.1478\n",
      "Epoch  17 / iter   0, loss = 0.2249\n",
      "Epoch  17 / iter   1, loss = 0.2009\n",
      "Epoch  17 / iter   2, loss = 0.1841\n",
      "Epoch  17 / iter   3, loss = 0.1984\n",
      "Epoch  17 / iter   4, loss = 0.0393\n",
      "Epoch  18 / iter   0, loss = 0.1531\n",
      "Epoch  18 / iter   1, loss = 0.2098\n",
      "Epoch  18 / iter   2, loss = 0.1248\n",
      "Epoch  18 / iter   3, loss = 0.2933\n",
      "Epoch  18 / iter   4, loss = 0.0107\n",
      "Epoch  19 / iter   0, loss = 0.1645\n",
      "Epoch  19 / iter   1, loss = 0.2447\n",
      "Epoch  19 / iter   2, loss = 0.1195\n",
      "Epoch  19 / iter   3, loss = 0.2251\n",
      "Epoch  19 / iter   4, loss = 0.0619\n",
      "Epoch  20 / iter   0, loss = 0.1620\n",
      "Epoch  20 / iter   1, loss = 0.2006\n",
      "Epoch  20 / iter   2, loss = 0.1923\n",
      "Epoch  20 / iter   3, loss = 0.1362\n",
      "Epoch  20 / iter   4, loss = 0.9819\n",
      "Epoch  21 / iter   0, loss = 0.2170\n",
      "Epoch  21 / iter   1, loss = 0.1606\n",
      "Epoch  21 / iter   2, loss = 0.1413\n",
      "Epoch  21 / iter   3, loss = 0.1561\n",
      "Epoch  21 / iter   4, loss = 0.0788\n",
      "Epoch  22 / iter   0, loss = 0.1649\n",
      "Epoch  22 / iter   1, loss = 0.1979\n",
      "Epoch  22 / iter   2, loss = 0.1490\n",
      "Epoch  22 / iter   3, loss = 0.1419\n",
      "Epoch  22 / iter   4, loss = 0.0635\n",
      "Epoch  23 / iter   0, loss = 0.0957\n",
      "Epoch  23 / iter   1, loss = 0.1884\n",
      "Epoch  23 / iter   2, loss = 0.2327\n",
      "Epoch  23 / iter   3, loss = 0.1159\n",
      "Epoch  23 / iter   4, loss = 0.1493\n",
      "Epoch  24 / iter   0, loss = 0.1734\n",
      "Epoch  24 / iter   1, loss = 0.1437\n",
      "Epoch  24 / iter   2, loss = 0.1367\n",
      "Epoch  24 / iter   3, loss = 0.1618\n",
      "Epoch  24 / iter   4, loss = 0.1686\n",
      "Epoch  25 / iter   0, loss = 0.1353\n",
      "Epoch  25 / iter   1, loss = 0.1754\n",
      "Epoch  25 / iter   2, loss = 0.1467\n",
      "Epoch  25 / iter   3, loss = 0.1328\n",
      "Epoch  25 / iter   4, loss = 0.2349\n",
      "Epoch  26 / iter   0, loss = 0.1800\n",
      "Epoch  26 / iter   1, loss = 0.1312\n",
      "Epoch  26 / iter   2, loss = 0.1404\n",
      "Epoch  26 / iter   3, loss = 0.1234\n",
      "Epoch  26 / iter   4, loss = 0.0555\n",
      "Epoch  27 / iter   0, loss = 0.1472\n",
      "Epoch  27 / iter   1, loss = 0.1394\n",
      "Epoch  27 / iter   2, loss = 0.1598\n",
      "Epoch  27 / iter   3, loss = 0.1087\n",
      "Epoch  27 / iter   4, loss = 0.1599\n",
      "Epoch  28 / iter   0, loss = 0.1063\n",
      "Epoch  28 / iter   1, loss = 0.1141\n",
      "Epoch  28 / iter   2, loss = 0.1494\n",
      "Epoch  28 / iter   3, loss = 0.1736\n",
      "Epoch  28 / iter   4, loss = 0.0160\n",
      "Epoch  29 / iter   0, loss = 0.1606\n",
      "Epoch  29 / iter   1, loss = 0.1334\n",
      "Epoch  29 / iter   2, loss = 0.1064\n",
      "Epoch  29 / iter   3, loss = 0.1288\n",
      "Epoch  29 / iter   4, loss = 0.0217\n",
      "Epoch  30 / iter   0, loss = 0.1067\n",
      "Epoch  30 / iter   1, loss = 0.1178\n",
      "Epoch  30 / iter   2, loss = 0.1904\n",
      "Epoch  30 / iter   3, loss = 0.1011\n",
      "Epoch  30 / iter   4, loss = 0.0440\n",
      "Epoch  31 / iter   0, loss = 0.1336\n",
      "Epoch  31 / iter   1, loss = 0.1200\n",
      "Epoch  31 / iter   2, loss = 0.0884\n",
      "Epoch  31 / iter   3, loss = 0.1612\n",
      "Epoch  31 / iter   4, loss = 0.0498\n",
      "Epoch  32 / iter   0, loss = 0.1530\n",
      "Epoch  32 / iter   1, loss = 0.1522\n",
      "Epoch  32 / iter   2, loss = 0.0986\n",
      "Epoch  32 / iter   3, loss = 0.0894\n",
      "Epoch  32 / iter   4, loss = 0.0162\n",
      "Epoch  33 / iter   0, loss = 0.1386\n",
      "Epoch  33 / iter   1, loss = 0.0913\n",
      "Epoch  33 / iter   2, loss = 0.1465\n",
      "Epoch  33 / iter   3, loss = 0.1041\n",
      "Epoch  33 / iter   4, loss = 0.0730\n",
      "Epoch  34 / iter   0, loss = 0.1362\n",
      "Epoch  34 / iter   1, loss = 0.0817\n",
      "Epoch  34 / iter   2, loss = 0.0898\n",
      "Epoch  34 / iter   3, loss = 0.1631\n",
      "Epoch  34 / iter   4, loss = 0.0394\n",
      "Epoch  35 / iter   0, loss = 0.0991\n",
      "Epoch  35 / iter   1, loss = 0.1254\n",
      "Epoch  35 / iter   2, loss = 0.1335\n",
      "Epoch  35 / iter   3, loss = 0.1011\n",
      "Epoch  35 / iter   4, loss = 0.1062\n",
      "Epoch  36 / iter   0, loss = 0.1063\n",
      "Epoch  36 / iter   1, loss = 0.1008\n",
      "Epoch  36 / iter   2, loss = 0.1304\n",
      "Epoch  36 / iter   3, loss = 0.1149\n",
      "Epoch  36 / iter   4, loss = 0.0675\n",
      "Epoch  37 / iter   0, loss = 0.1118\n",
      "Epoch  37 / iter   1, loss = 0.1043\n",
      "Epoch  37 / iter   2, loss = 0.0853\n",
      "Epoch  37 / iter   3, loss = 0.1251\n",
      "Epoch  37 / iter   4, loss = 0.4400\n",
      "Epoch  38 / iter   0, loss = 0.0916\n",
      "Epoch  38 / iter   1, loss = 0.0891\n",
      "Epoch  38 / iter   2, loss = 0.1474\n",
      "Epoch  38 / iter   3, loss = 0.1003\n",
      "Epoch  38 / iter   4, loss = 0.0432\n",
      "Epoch  39 / iter   0, loss = 0.0929\n",
      "Epoch  39 / iter   1, loss = 0.1495\n",
      "Epoch  39 / iter   2, loss = 0.0918\n",
      "Epoch  39 / iter   3, loss = 0.0820\n",
      "Epoch  39 / iter   4, loss = 0.1435\n",
      "Epoch  40 / iter   0, loss = 0.0779\n",
      "Epoch  40 / iter   1, loss = 0.1324\n",
      "Epoch  40 / iter   2, loss = 0.0864\n",
      "Epoch  40 / iter   3, loss = 0.1127\n",
      "Epoch  40 / iter   4, loss = 0.0133\n",
      "Epoch  41 / iter   0, loss = 0.0850\n",
      "Epoch  41 / iter   1, loss = 0.0894\n",
      "Epoch  41 / iter   2, loss = 0.1025\n",
      "Epoch  41 / iter   3, loss = 0.1237\n",
      "Epoch  41 / iter   4, loss = 0.0428\n",
      "Epoch  42 / iter   0, loss = 0.0953\n",
      "Epoch  42 / iter   1, loss = 0.0731\n",
      "Epoch  42 / iter   2, loss = 0.1016\n",
      "Epoch  42 / iter   3, loss = 0.1219\n",
      "Epoch  42 / iter   4, loss = 0.0452\n",
      "Epoch  43 / iter   0, loss = 0.1143\n",
      "Epoch  43 / iter   1, loss = 0.0997\n",
      "Epoch  43 / iter   2, loss = 0.1085\n",
      "Epoch  43 / iter   3, loss = 0.0606\n",
      "Epoch  43 / iter   4, loss = 0.0403\n",
      "Epoch  44 / iter   0, loss = 0.1136\n",
      "Epoch  44 / iter   1, loss = 0.1163\n",
      "Epoch  44 / iter   2, loss = 0.0752\n",
      "Epoch  44 / iter   3, loss = 0.0712\n",
      "Epoch  44 / iter   4, loss = 0.0121\n",
      "Epoch  45 / iter   0, loss = 0.1034\n",
      "Epoch  45 / iter   1, loss = 0.0753\n",
      "Epoch  45 / iter   2, loss = 0.0872\n",
      "Epoch  45 / iter   3, loss = 0.1028\n",
      "Epoch  45 / iter   4, loss = 0.0386\n",
      "Epoch  46 / iter   0, loss = 0.0945\n",
      "Epoch  46 / iter   1, loss = 0.0970\n",
      "Epoch  46 / iter   2, loss = 0.0753\n",
      "Epoch  46 / iter   3, loss = 0.0863\n",
      "Epoch  46 / iter   4, loss = 0.2651\n",
      "Epoch  47 / iter   0, loss = 0.0919\n",
      "Epoch  47 / iter   1, loss = 0.0845\n",
      "Epoch  47 / iter   2, loss = 0.1033\n",
      "Epoch  47 / iter   3, loss = 0.0771\n",
      "Epoch  47 / iter   4, loss = 0.0088\n",
      "Epoch  48 / iter   0, loss = 0.0714\n",
      "Epoch  48 / iter   1, loss = 0.1039\n",
      "Epoch  48 / iter   2, loss = 0.0769\n",
      "Epoch  48 / iter   3, loss = 0.0905\n",
      "Epoch  48 / iter   4, loss = 0.1825\n",
      "Epoch  49 / iter   0, loss = 0.0933\n",
      "Epoch  49 / iter   1, loss = 0.0660\n",
      "Epoch  49 / iter   2, loss = 0.0832\n",
      "Epoch  49 / iter   3, loss = 0.0962\n",
      "Epoch  49 / iter   4, loss = 0.0714\n"
     ]
    },
    {
     "data": {
      "image/png": "[encoded data removed]",
      "text/plain": [
       "<Figure size 432x288 with 1 Axes>"
      ]
     },
     "metadata": {},
     "output_type": "display_data"
    }
   ],
   "source": [
    "#************************** 训练 *****************************\r\n",
    "#获取数据\r\n",
    "train_data, test_data = load_data()\r\n",
    "#创建网络\r\n",
    "net = Network(13)\r\n",
    "#启动训练\r\n",
    "losses = net.train(train_data, num_epoches = 50, batch_size = 100, eta = 0.01)\r\n",
    "#画出损失函数的变化趋势\r\n",
    "plot_x = np.arange(len(losses))\r\n",
    "plot_y = np.array(losses)\r\n",
    "plt.plot(plot_x, plot_y)\r\n",
    "plt.show()"
   ]
  },
  {
   "cell_type": "code",
   "execution_count": null,
   "metadata": {
    "collapsed": true
   },
   "outputs": [],
   "source": [
    "#测试\n",
    "#封装训练函数\n",
    "def train(self, x, y, iterations = 100, eta = 0.01):\n",
    "        losses = []\n",
    "        for i in range(iterations):\n",
    "            z = self.forward(x)\n",
    "            L = self.loss(z, y)\n",
    "            gradient_w, gradient_b = self.gradient(x, y)\n",
    "            self.update(gradient_w, gradient_b, eta)\n",
    "            #list.append(obj) 方法向列表的尾部添加一个新的元素\n",
    "            #obj为返回的对象，该方法无返回值，但是会修改原来的列表\n",
    "            losses.append(L)\n",
    "            if (i + 1) % 10 == 0:\n",
    "                print('iter {}, loaa {}'.format(i, L))\n",
    "        return losses"
   ]
  },
  {
   "cell_type": "code",
   "execution_count": 61,
   "metadata": {
    "collapsed": true
   },
   "outputs": [
    {
     "name": "stdout",
     "output_type": "stream",
     "text": [
      "iter 9, loaa 1.8984947314576224\n",
      "iter 19, loaa 1.8031783384598725\n",
      "iter 29, loaa 1.7135517565541092\n",
      "iter 39, loaa 1.6292649416831264\n",
      "iter 49, loaa 1.5499895293373231\n",
      "iter 59, loaa 1.4754174896452612\n",
      "iter 69, loaa 1.4052598659324693\n",
      "iter 79, loaa 1.3392455915676864\n",
      "iter 89, loaa 1.2771203802372915\n",
      "iter 99, loaa 1.218645685090292\n",
      "iter 109, loaa 1.1635977224791534\n",
      "iter 119, loaa 1.111766556287068\n",
      "iter 129, loaa 1.0629552390811503\n",
      "iter 139, loaa 1.0169790065644477\n",
      "iter 149, loaa 0.9736645220185994\n",
      "iter 159, loaa 0.9328491676343147\n",
      "iter 169, loaa 0.8943803798194307\n",
      "iter 179, loaa 0.8581150257549611\n",
      "iter 189, loaa 0.8239188186389669\n",
      "iter 199, loaa 0.7916657692169988\n",
      "iter 209, loaa 0.761237671346902\n",
      "iter 219, loaa 0.7325236194855752\n",
      "iter 229, loaa 0.7054195561163928\n",
      "iter 239, loaa 0.6798278472589763\n",
      "iter 249, loaa 0.6556568843183528\n",
      "iter 259, loaa 0.6328207106387195\n",
      "iter 269, loaa 0.6112386712285092\n",
      "iter 279, loaa 0.59083508421862\n",
      "iter 289, loaa 0.5715389327049418\n",
      "iter 299, loaa 0.5532835757100347\n",
      "iter 309, loaa 0.5360064770773406\n",
      "iter 319, loaa 0.5196489511849665\n",
      "iter 329, loaa 0.5041559244351539\n",
      "iter 339, loaa 0.48947571154034963\n",
      "iter 349, loaa 0.47555980568755696\n",
      "iter 359, loaa 0.46236268171965056\n",
      "iter 369, loaa 0.44984161152579916\n",
      "iter 379, loaa 0.43795649088328303\n",
      "iter 389, loaa 0.4266696770400226\n",
      "iter 399, loaa 0.41594583637124666\n",
      "iter 409, loaa 0.4057518014851036\n",
      "iter 419, loaa 0.3960564371908221\n",
      "iter 429, loaa 0.38683051477942226\n",
      "iter 439, loaa 0.3780465941011246\n",
      "iter 449, loaa 0.3696789129556087\n",
      "iter 459, loaa 0.3617032833413179\n",
      "iter 469, loaa 0.3540969941381648\n",
      "iter 479, loaa 0.3468387198244131\n",
      "iter 489, loaa 0.3399084348532937\n",
      "iter 499, loaa 0.33328733333814486\n",
      "iter 509, loaa 0.3269577537166779\n",
      "iter 519, loaa 0.32090310808539985\n",
      "iter 529, loaa 0.3151078159144129\n",
      "iter 539, loaa 0.30955724187078903\n",
      "iter 549, loaa 0.3042376374955925\n",
      "iter 559, loaa 0.2991360864954391\n",
      "iter 569, loaa 0.2942404534243286\n",
      "iter 579, loaa 0.2895393355454012\n",
      "iter 589, loaa 0.28502201767532415\n",
      "iter 599, loaa 0.28067842982626157\n",
      "iter 609, loaa 0.27649910747186535\n",
      "iter 619, loaa 0.2724751542744919\n",
      "iter 629, loaa 0.2685982071209627\n",
      "iter 639, loaa 0.26486040332365085\n",
      "iter 649, loaa 0.2612543498525749\n",
      "iter 659, loaa 0.2577730944725093\n",
      "iter 669, loaa 0.2544100986669443\n",
      "iter 679, loaa 0.2511592122380609\n",
      "iter 689, loaa 0.2480146494787638\n",
      "iter 699, loaa 0.24497096681926708\n",
      "iter 709, loaa 0.2420230418567802\n",
      "iter 719, loaa 0.23916605368251415\n",
      "iter 729, loaa 0.23639546442555454\n",
      "iter 739, loaa 0.23370700193813704\n",
      "iter 749, loaa 0.2310966435515475\n",
      "iter 759, loaa 0.2285606008362593\n",
      "iter 769, loaa 0.22609530530403904\n",
      "iter 779, loaa 0.22369739499361888\n",
      "iter 789, loaa 0.2213637018851542\n",
      "iter 799, loaa 0.21909124009208833\n",
      "iter 809, loaa 0.21687719478222933\n",
      "iter 819, loaa 0.21471891178284025\n",
      "iter 829, loaa 0.21261388782734392\n",
      "iter 839, loaa 0.2105597614038757\n",
      "iter 849, loaa 0.20855430416838638\n",
      "iter 859, loaa 0.20659541288730932\n",
      "iter 869, loaa 0.20468110187697833\n",
      "iter 879, loaa 0.2028094959090178\n",
      "iter 889, loaa 0.20097882355283644\n",
      "iter 899, loaa 0.19918741092814596\n",
      "iter 909, loaa 0.19743367584210875\n",
      "iter 919, loaa 0.1957161222872899\n",
      "iter 929, loaa 0.19403333527807176\n",
      "iter 939, loaa 0.19238397600456975\n",
      "iter 949, loaa 0.19076677728439412\n",
      "iter 959, loaa 0.1891805392938162\n",
      "iter 969, loaa 0.18762412556104593\n",
      "iter 979, loaa 0.18609645920539716\n",
      "iter 989, loaa 0.18459651940712488\n",
      "iter 999, loaa 0.18312333809366155\n"
     ]
    },
    {
     "data": {
      "image/png": "[encoded data removed]",
      "text/plain": [
       "<Figure size 432x288 with 1 Axes>"
      ]
     },
     "metadata": {},
     "output_type": "display_data"
    }
   ],
   "source": [
    "#测试\r\n",
    "#获取数据\r\n",
    "train_data, test_data = load_data()\r\n",
    "x = train_data[:, :-1]\r\n",
    "y = train_data[:, -1:]\r\n",
    "# 创建网络\r\n",
    "net = Network(13)\r\n",
    "num_iterations=1000\r\n",
    "#启动训练\r\n",
    "losses = net.train(x, y, iterations = num_iterations, eta = 0.01)\r\n",
    "#画出损失函数的变化趋势\r\n",
    "#numpy.arange(start, stop, step, dtype)\r\n",
    "#numpy 包中的使用 arange 函数创建数值范围并返回 ndarray 对象\r\n",
    "plot_x = np.arange(num_iterations)\r\n",
    "plot_y = np.array(losses)\r\n",
    "plt.plot(plot_x, plot_y)\r\n",
    "plt.show()"
   ]
  },
  {
   "cell_type": "markdown",
   "metadata": {
    "collapsed": true
   },
   "source": [
    "特征输入归一化后，不同参数输出的Loss是一个比较规整的曲线，学习率可以设置成统一的值 ；特征输入未归一化时，不同特征对应的参数所需的步长不一致，尺度较大的参数需要大步长，尺寸较小的参数需要小步长，导致无法设置统一的学习率。\n",
    "![](https://ai-studio-static-online.cdn.bcebos.com/f92a9cdcee0742ea8e89acdb33e7cc483d03af1b66f34bf3a493f85c2f526113)\n"
   ]
  },
  {
   "cell_type": "code",
   "execution_count": 45,
   "metadata": {
    "collapsed": true
   },
   "outputs": [
    {
     "name": "stdout",
     "output_type": "stream",
     "text": [
      "[-0.63182506]\n"
     ]
    }
   ],
   "source": [
    "#示例\r\n",
    "#特征向量x[0]有13个分量,因此需匹配含有13个元素的权重\r\n",
    "net = Network(13)\r\n",
    "x1 = x[0]\r\n",
    "y1 = y[0]\r\n",
    "z = net.forward(x1)\r\n",
    "print(z)"
   ]
  },
  {
   "cell_type": "code",
   "execution_count": 46,
   "metadata": {
    "collapsed": true
   },
   "outputs": [
    {
     "name": "stdout",
     "output_type": "stream",
     "text": [
      "[[-0.63182506]\n",
      " [-0.55793096]\n",
      " [-1.00062009]]\n",
      "0.7229825055441156\n"
     ]
    }
   ],
   "source": [
    "#示例\r\n",
    "net = Network(13)\r\n",
    "x1 = x[0:3]\r\n",
    "y1 = y[0:3]\r\n",
    "z = net.forward(x1)\r\n",
    "print(z)\r\n",
    "loss = net.loss(z, y1)\r\n",
    "print(loss)"
   ]
  },
  {
   "cell_type": "code",
   "execution_count": 47,
   "metadata": {
    "collapsed": true
   },
   "outputs": [
    {
     "data": {
      "image/png": "[encoded data removed]",
      "text/plain": [
       "<Figure size 432x288 with 1 Axes>"
      ]
     },
     "metadata": {},
     "output_type": "display_data"
    }
   ],
   "source": [
    "#测试\r\n",
    "net = Network(13)\r\n",
    "losses = []\r\n",
    "#只画出参数w5和w9在区间[-160, 160]的曲线部分，以及包含损失函数的极值\r\n",
    "w5 = np.arange(-160.0, 160.0, 1.0)\r\n",
    "w9 = np.arange(-160.0, 160.0, 1.0)\r\n",
    "losses = np.zeros([len(w5),len(w9)])\r\n",
    "\r\n",
    "#计算设定区域内每个参数取值所对应的loss\r\n",
    "#固定w1,w2,...w12不变，只改变w5和w9\r\n",
    "#w5和w9对损失函数的影响更为直观\r\n",
    "for i in range(len(w5)):\r\n",
    "    for j in range(len(w9)):\r\n",
    "        net.w[5] = w5[i]\r\n",
    "        net.w[9] = w9[j]\r\n",
    "        z = net.forward(x)\r\n",
    "        loss = net.loss(z, y)\r\n",
    "        losses[i, j] = loss\r\n",
    "\r\n",
    "#使用matpplotlib将两个变量和对应的loss作3D图\r\n",
    "import matplotlib.pyplot as plt\r\n",
    "from mpl_toolkits.mplot3d import Axes3D\r\n",
    "fig = plt.figure()\r\n",
    "#使用 Axes3D() 创建 3D 图形对象\r\n",
    "#axis3d() 主要是包含了和坐标轴相关的类和方法\r\n",
    "ax = Axes3D(fig)\r\n",
    "\r\n",
    "w5, w9 = np.meshgrid(w5, w9)\r\n",
    "#np.meshgrid实现用两个坐标轴的点在平面上画网格\r\n",
    "#[X,Y] = meshgrid(x,y) 将向量x和y定义的区域转换成矩阵X和Y,其中矩阵X，Y的行向量是向量x，y的简单复制\r\n",
    "#假设x是长度为m的向量，y是长度为n的向量，则最终生成的矩阵的维度都是 n*m \r\n",
    "ax.plot_surface(w5, w9, losses, rstride = 1, cstride = 1, cmap = 'rainbow')\r\n",
    "plt.show()"
   ]
  },
  {
   "cell_type": "markdown",
   "metadata": {
    "collapsed": true
   },
   "source": [
    "#测试\n",
    "#************************ 训练过程 ***********************************\n",
    "'''\n",
    "求解模型参数的过程\n",
    "目标：找到一组参数使权重最小\n",
    "对于线性模型而言，最值在梯度为0时获得\n",
    "梯度方向的反方向是函数值下降最快的方向\n",
    "使用numpy代替for循环实现快速处理多个样本数据（numpy库广播功能）\n",
    "'''\n",
    "z = net.forward(x)\n",
    "gradient_w = (z - y) * x\n",
    "#print('gradient_w shape {}'.format(gradient_w.shape))\n",
    "#print('gradient_w\\n',gradient_w)\n",
    "#取所有样本贡献的梯度的均值\n",
    "gradient_w = np.mean(gradient_w, axis = 0)\n",
    "#Q: 为什么先变换维度后进行均值输出维度为（1，13）\n",
    "\n",
    "'''\n",
    "print('w', net.w.shape)\n",
    "#w(13,1)\n",
    "print('gradient_w', gradient_w.shape)\n",
    "#graident_w (13,);是因为numpy函数消除了0维所致\n",
    "'''\n",
    "\n",
    "#为计算方便将gradient_w的维度也设置为(13, 1)\n",
    "gradient_w = gradient_w[:, np.newaxis]\n",
    "\n",
    "gradient_w.shape"
   ]
  },
  {
   "cell_type": "code",
   "execution_count": 56,
   "metadata": {
    "collapsed": true
   },
   "outputs": [
    {
     "name": "stdout",
     "output_type": "stream",
     "text": [
      "point [-100.0, -100.0], loss 686.3005008179159\n",
      "gradient [-0.850073323995813, -6.138412364807849]\n"
     ]
    }
   ],
   "source": [
    "# 调用上面定义的gradient函数，计算梯度\r\n",
    "# 初始化网络\r\n",
    "net = Network(13)\r\n",
    "# 设置[w5, w9] = [-100., -100.]\r\n",
    "net.w[5] = -100.0\r\n",
    "net.w[9] = -100.0\r\n",
    "\r\n",
    "z = net.forward(x)\r\n",
    "loss = net.loss(z, y)\r\n",
    "gradient_w, gradient_b = net.gradient(x, y)\r\n",
    "gradient_w5 = gradient_w[5][0]\r\n",
    "gradient_w9 = gradient_w[9][0]\r\n",
    "print('point {}, loss {}'.format([net.w[5][0], net.w[9][0]], loss))\r\n",
    "print('gradient {}'.format([gradient_w5, gradient_w9]))"
   ]
  },
  {
   "cell_type": "code",
   "execution_count": 57,
   "metadata": {
    "collapsed": true
   },
   "outputs": [
    {
     "name": "stdout",
     "output_type": "stream",
     "text": [
      "point [-99.91499266760042, -99.38615876351922], loss 678.6472185028845\n",
      "gradient [-0.8556356178645292, -6.0932268634065805]\n"
     ]
    }
   ],
   "source": [
    "#测试\r\n",
    "#在[w5,w9]平面上，沿着梯度的反方向移动到下一个点\r\n",
    "#沿梯度反方向函数值下降\r\n",
    "#定义步长(学习率)\r\n",
    "eta = 0.1\r\n",
    "#更新权重参数\r\n",
    "#net.w = net.w - eta * gradient_w\r\n",
    "#输出结果与下述代码不同？\r\n",
    "#->整个特征均进行了更新，而下述代码值更新了w5和w9两个权重\r\n",
    "net.w[5] = net.w[5] - eta * gradient_w5\r\n",
    "net.w[9] = net.w[9] - eta * gradient_w9\r\n",
    "#重新计算z和loss\r\n",
    "z = net.forward(x)\r\n",
    "loss = net.loss(z, y)\r\n",
    "gradient_w, gradient_b = net.gradient(x, y)\r\n",
    "#为什么必须先赋值？\r\n",
    "gradient_w5 = gradient_w[5][0]\r\n",
    "gradient_w9 = gradient_w[9][0]\r\n",
    "print('point {}, loss {}'.format([net.w[5][0], net.w[9][0]], loss))\r\n",
    "print('gradient {}'.format([gradient_w5, gradient_w9]))"
   ]
  },
  {
   "cell_type": "code",
   "execution_count": 63,
   "metadata": {
    "collapsed": false
   },
   "outputs": [
    {
     "name": "stdout",
     "output_type": "stream",
     "text": [
      "total number of mini_batches is 41\n",
      "first mini_batch shape (10, 14)\n",
      "last mini_batch shape (4, 14)\n"
     ]
    }
   ],
   "source": [
    "#随机梯度下降法（SGD）\r\n",
    "'''\r\n",
    "从总的数据集中随机抽取小部分数据来代表整体，基于这部分数据计算梯度和损失来更新参数\r\n",
    "mini-batch:迭代抽出的一批数据\r\n",
    "batch-size:一个mini-batch包含的样本数目\r\n",
    "epoch:按mini-batch逐渐抽取样本，将整个数据集遍历一遍时成为一个epoch\r\n",
    "'''\r\n",
    "#获取数据\r\n",
    "train_data, test_data = load_data()\r\n",
    "batch_size = 10\r\n",
    "n = len(train_data)\r\n",
    "'''\r\n",
    "#按顺序获取mini_batch\r\n",
    "mini_batches = [train_data[k:k+batch_size] for k in range(0, n, batch_size)]\r\n",
    "print('total number of mini_batches is', len(mini_batches))\r\n",
    "print('first mini_batch shape', mini_batches[0].shape)\r\n",
    "print('last mini_batch shape', mini_batches[-1].shape)\r\n",
    "'''\r\n",
    "\r\n",
    "#实现随机抽取mini_batch\r\n",
    "'''\r\n",
    "模型一般对后出现的数据印象更深刻\r\n",
    "越接近模型训练结束的批次的数据对模型参数的影响越大\r\n",
    "为避免模型记忆影响训练效果，需要进行样本乱序操作\r\n",
    "'''\r\n",
    "#np.random.shuffle()随机改变数组顺序\r\n",
    "np.random.shuffle(train_data)\r\n",
    "#将train_data分为多个mini_batch\r\n",
    "mini_batches = [train_data[k:k+mini_batch] for k in range(0, n, batch_size)]\r\n",
    "#创建网络\r\n",
    "net = Network(13)\r\n",
    "#依次使用每个mini_batch的数据\r\n",
    "for mini_batch in mini_batches:\r\n",
    "    x = mini_batch[:, :-1]\r\n",
    "    y = mini_batch[:, -1:]\r\n",
    "    loss = net.train(x, y, iterations = 1)\r\n"
   ]
  }
 ],
 "metadata": {
  "kernelspec": {
   "display_name": "PaddlePaddle 1.8.0 (Python 3.5)",
   "language": "python",
   "name": "py35-paddle1.2.0"
  },
  "language_info": {
   "codemirror_mode": {
    "name": "ipython",
    "version": 3
   },
   "file_extension": ".py",
   "mimetype": "text/x-python",
   "name": "python",
   "nbconvert_exporter": "python",
   "pygments_lexer": "ipython3",
   "version": "3.7.4"
  }
 },
 "nbformat": 4,
 "nbformat_minor": 1
}
